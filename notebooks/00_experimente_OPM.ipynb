{
 "cells": [
  {
   "cell_type": "raw",
   "metadata": {},
   "source": [
    "---\n",
    "title: \"00experimenteOPM\"\n",
    "format: html\n",
    "---"
   ]
  },
  {
   "attachments": {},
   "cell_type": "markdown",
   "metadata": {},
   "source": [
    "# Test pyspotstream"
   ]
  },
  {
   "attachments": {},
   "cell_type": "markdown",
   "metadata": {},
   "source": [
    "* This is a simple test to check whether:\n",
    "  * `pyspotstream` is installed\n",
    "  * the `OPM` data set can be downloaded to the local disk\n",
    "  * If successful, data can be loaded and the CSV file `open_data.csv` is available."
   ]
  },
  {
   "cell_type": "code",
   "execution_count": 31,
   "metadata": {},
   "outputs": [],
   "source": [
    "from pyspotstream.data.OPM import get_opm, load_opm"
   ]
  },
  {
   "attachments": {},
   "cell_type": "markdown",
   "metadata": {},
   "source": [
    "## Download OPM Data"
   ]
  },
  {
   "cell_type": "code",
   "execution_count": 32,
   "metadata": {},
   "outputs": [
    {
     "name": "stdout",
     "output_type": "stream",
     "text": [
      "File opm_data.csv already exists. To enforce download, set 'overwrite=True'.\n"
     ]
    }
   ],
   "source": [
    "get_opm(overwrite=False)"
   ]
  },
  {
   "attachments": {},
   "cell_type": "markdown",
   "metadata": {},
   "source": [
    "## Load OPM"
   ]
  },
  {
   "cell_type": "code",
   "execution_count": 33,
   "metadata": {},
   "outputs": [
    {
     "name": "stderr",
     "output_type": "stream",
     "text": [
      "/Users/bartz/miniforge3/envs/spotCondaEnv/lib/python3.10/site-packages/pyspotstream/data/OPM.py:43: DtypeWarning: Columns (8,9,10,11,12) have mixed types. Specify dtype option on import or set low_memory=False.\n",
      "  df = pd.read_csv(filename, date_parser=dateparse)\n"
     ]
    },
    {
     "data": {
      "text/html": [
       "<div>\n",
       "<style scoped>\n",
       "    .dataframe tbody tr th:only-of-type {\n",
       "        vertical-align: middle;\n",
       "    }\n",
       "\n",
       "    .dataframe tbody tr th {\n",
       "        vertical-align: top;\n",
       "    }\n",
       "\n",
       "    .dataframe thead th {\n",
       "        text-align: right;\n",
       "    }\n",
       "</style>\n",
       "<table border=\"1\" class=\"dataframe\">\n",
       "  <thead>\n",
       "    <tr style=\"text-align: right;\">\n",
       "      <th></th>\n",
       "      <th>List Year</th>\n",
       "      <th>Assessed Value</th>\n",
       "      <th>Sales Ratio</th>\n",
       "      <th>timestamp_rec</th>\n",
       "      <th>lat</th>\n",
       "      <th>lon</th>\n",
       "    </tr>\n",
       "  </thead>\n",
       "  <tbody>\n",
       "    <tr>\n",
       "      <th>0</th>\n",
       "      <td>2001</td>\n",
       "      <td>107530.0</td>\n",
       "      <td>0.575027</td>\n",
       "      <td>1001887200</td>\n",
       "      <td>-1.000000</td>\n",
       "      <td>-1.000000</td>\n",
       "    </tr>\n",
       "    <tr>\n",
       "      <th>1</th>\n",
       "      <td>2001</td>\n",
       "      <td>47000.0</td>\n",
       "      <td>0.653686</td>\n",
       "      <td>1001887200</td>\n",
       "      <td>-1.000000</td>\n",
       "      <td>-1.000000</td>\n",
       "    </tr>\n",
       "    <tr>\n",
       "      <th>2</th>\n",
       "      <td>2001</td>\n",
       "      <td>50720.0</td>\n",
       "      <td>0.878268</td>\n",
       "      <td>1001887200</td>\n",
       "      <td>-1.000000</td>\n",
       "      <td>-1.000000</td>\n",
       "    </tr>\n",
       "    <tr>\n",
       "      <th>3</th>\n",
       "      <td>2001</td>\n",
       "      <td>80010.0</td>\n",
       "      <td>0.695739</td>\n",
       "      <td>1001887200</td>\n",
       "      <td>-72.441559</td>\n",
       "      <td>41.867161</td>\n",
       "    </tr>\n",
       "    <tr>\n",
       "      <th>4</th>\n",
       "      <td>2001</td>\n",
       "      <td>152800.0</td>\n",
       "      <td>0.485079</td>\n",
       "      <td>1001887200</td>\n",
       "      <td>-1.000000</td>\n",
       "      <td>-1.000000</td>\n",
       "    </tr>\n",
       "    <tr>\n",
       "      <th>...</th>\n",
       "      <td>...</td>\n",
       "      <td>...</td>\n",
       "      <td>...</td>\n",
       "      <td>...</td>\n",
       "      <td>...</td>\n",
       "      <td>...</td>\n",
       "    </tr>\n",
       "    <tr>\n",
       "      <th>9995</th>\n",
       "      <td>2001</td>\n",
       "      <td>378840.0</td>\n",
       "      <td>0.557938</td>\n",
       "      <td>1007420400</td>\n",
       "      <td>-1.000000</td>\n",
       "      <td>-1.000000</td>\n",
       "    </tr>\n",
       "    <tr>\n",
       "      <th>9996</th>\n",
       "      <td>2001</td>\n",
       "      <td>56800.0</td>\n",
       "      <td>0.541468</td>\n",
       "      <td>1007420400</td>\n",
       "      <td>-1.000000</td>\n",
       "      <td>-1.000000</td>\n",
       "    </tr>\n",
       "    <tr>\n",
       "      <th>9997</th>\n",
       "      <td>2001</td>\n",
       "      <td>84660.0</td>\n",
       "      <td>0.617956</td>\n",
       "      <td>1007420400</td>\n",
       "      <td>-1.000000</td>\n",
       "      <td>-1.000000</td>\n",
       "    </tr>\n",
       "    <tr>\n",
       "      <th>9998</th>\n",
       "      <td>2001</td>\n",
       "      <td>37520.0</td>\n",
       "      <td>0.487273</td>\n",
       "      <td>1007420400</td>\n",
       "      <td>-73.225151</td>\n",
       "      <td>41.489830</td>\n",
       "    </tr>\n",
       "    <tr>\n",
       "      <th>9999</th>\n",
       "      <td>2001</td>\n",
       "      <td>71190.0</td>\n",
       "      <td>0.598738</td>\n",
       "      <td>1007420400</td>\n",
       "      <td>-1.000000</td>\n",
       "      <td>-1.000000</td>\n",
       "    </tr>\n",
       "  </tbody>\n",
       "</table>\n",
       "<p>10000 rows × 6 columns</p>\n",
       "</div>"
      ],
      "text/plain": [
       "      List Year  Assessed Value  Sales Ratio  timestamp_rec        lat  \\\n",
       "0          2001        107530.0     0.575027     1001887200  -1.000000   \n",
       "1          2001         47000.0     0.653686     1001887200  -1.000000   \n",
       "2          2001         50720.0     0.878268     1001887200  -1.000000   \n",
       "3          2001         80010.0     0.695739     1001887200 -72.441559   \n",
       "4          2001        152800.0     0.485079     1001887200  -1.000000   \n",
       "...         ...             ...          ...            ...        ...   \n",
       "9995       2001        378840.0     0.557938     1007420400  -1.000000   \n",
       "9996       2001         56800.0     0.541468     1007420400  -1.000000   \n",
       "9997       2001         84660.0     0.617956     1007420400  -1.000000   \n",
       "9998       2001         37520.0     0.487273     1007420400 -73.225151   \n",
       "9999       2001         71190.0     0.598738     1007420400  -1.000000   \n",
       "\n",
       "            lon  \n",
       "0     -1.000000  \n",
       "1     -1.000000  \n",
       "2     -1.000000  \n",
       "3     41.867161  \n",
       "4     -1.000000  \n",
       "...         ...  \n",
       "9995  -1.000000  \n",
       "9996  -1.000000  \n",
       "9997  -1.000000  \n",
       "9998  41.489830  \n",
       "9999  -1.000000  \n",
       "\n",
       "[10000 rows x 6 columns]"
      ]
     },
     "execution_count": 33,
     "metadata": {},
     "output_type": "execute_result"
    }
   ],
   "source": [
    "X_train, y_train = load_opm(data_type=\"num\", n=10000, sorted=True, verbose=False)\n",
    "y_train = y_train.squeeze()  # necessary because Y is a one column df\n",
    "X_train\n"
   ]
  }
 ],
 "metadata": {
  "kernelspec": {
   "display_name": "Python 3 (ipykernel)",
   "language": "python",
   "name": "python3"
  },
  "language_info": {
   "codemirror_mode": {
    "name": "ipython",
    "version": 3
   },
   "file_extension": ".py",
   "mimetype": "text/x-python",
   "name": "python",
   "nbconvert_exporter": "python",
   "pygments_lexer": "ipython3",
   "version": "3.10.6"
  },
  "vscode": {
   "interpreter": {
    "hash": "81c77de872def749acd68d9955e19f0df6803301f4c1f66c3444af66334112ae"
   }
  }
 },
 "nbformat": 4,
 "nbformat_minor": 4
}
