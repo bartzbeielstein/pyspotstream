{
 "cells": [
  {
   "cell_type": "code",
   "execution_count": null,
   "id": "97d34aea-8fc5-48b6-a662-92ef6310ce8d",
   "metadata": {},
   "outputs": [],
   "source": [
    "import sys"
   ]
  },
  {
   "cell_type": "markdown",
   "id": "0032cfa5-1701-4a76-9172-d4c4e5d4e650",
   "metadata": {},
   "source": [
    "# Source installation of `pyspotseven`"
   ]
  },
  {
   "cell_type": "markdown",
   "id": "9d1efb78-a434-4e05-9fc2-6138cb1a3475",
   "metadata": {},
   "source": [
    "**Step 1**: Install or update `build` module "
   ]
  },
  {
   "cell_type": "code",
   "execution_count": null,
   "id": "3fff2ac1-e5e2-4894-9583-f9a10778411d",
   "metadata": {},
   "outputs": [],
   "source": [
    "!{sys.executable} -m pip install --upgrade build"
   ]
  },
  {
   "cell_type": "markdown",
   "id": "e1c4f8ab-350d-47fe-adb6-b4f2d0ece8e3",
   "metadata": {},
   "source": [
    "**Step 2**: Build `pyspotseven` module"
   ]
  },
  {
   "cell_type": "code",
   "execution_count": null,
   "id": "14d966f1-b7c5-426d-abd7-9b3b191d826a",
   "metadata": {},
   "outputs": [],
   "source": [
    "!{sys.executable} -m build "
   ]
  },
  {
   "cell_type": "markdown",
   "id": "ab33d570-4d14-40b2-aa7a-870efd180ae6",
   "metadata": {},
   "source": [
    "**Step 3**: Install the ju"
   ]
  },
  {
   "cell_type": "code",
   "execution_count": null,
   "id": "bcc2cd9a-7efc-4a11-96ef-12b0aa03fe79",
   "metadata": {},
   "outputs": [],
   "source": [
    "!{sys.executable} -m pip install --upgrade --force-reinstall dist/pyspotstream-0.1.8-py3-none-any.whl"
   ]
  }
 ],
 "metadata": {
  "kernelspec": {
   "display_name": "Python 3",
   "language": "python",
   "name": "python3"
  },
  "language_info": {
   "codemirror_mode": {
    "name": "ipython",
    "version": 3
   },
   "file_extension": ".py",
   "mimetype": "text/x-python",
   "name": "python",
   "nbconvert_exporter": "python",
   "pygments_lexer": "ipython3",
   "version": "3.10.6 (main, Aug 30 2022, 05:12:36) [Clang 13.1.6 (clang-1316.0.21.2.5)]"
  },
  "vscode": {
   "interpreter": {
    "hash": "aee8b7b246df8f9039afb4144a1f6fd8d2ca17a180786b69acc140d282b71a49"
   }
  }
 },
 "nbformat": 4,
 "nbformat_minor": 5
}
